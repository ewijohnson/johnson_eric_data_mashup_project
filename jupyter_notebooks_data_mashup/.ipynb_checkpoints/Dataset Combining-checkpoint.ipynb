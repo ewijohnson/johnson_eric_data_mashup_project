{
 "cells": [
  {
   "cell_type": "code",
   "execution_count": 13,
   "metadata": {},
   "outputs": [],
   "source": [
    "import pandas as pd"
   ]
  },
  {
   "cell_type": "code",
   "execution_count": 14,
   "metadata": {},
   "outputs": [],
   "source": [
    "kaggle_file = '../Datasets/Kaggle/video-game-sales-with-ratings/Video_Games_Sales_as_at_22_Dec_2016.csv'\n",
    "kaggle = pd.read_csv(kaggle_file)"
   ]
  },
  {
   "cell_type": "code",
   "execution_count": 22,
   "metadata": {},
   "outputs": [],
   "source": [
    "wiki_file = '../Datasets/Wikipedia/List of Video Game Musicians/all_composer_data.txt'\n",
    "wiki = pd.read_csv(wiki_file, sep=';')"
   ]
  },
  {
   "cell_type": "code",
   "execution_count": 30,
   "metadata": {},
   "outputs": [],
   "source": [
    "vgmdb_artist_file = '../Datasets/vgmdb/highest_rated_artists_adjusted.txt'\n",
    "vgmdb_artist = pd.read_csv(vgmdb_artist_file, sep='<')"
   ]
  },
  {
   "cell_type": "code",
   "execution_count": 33,
   "metadata": {},
   "outputs": [],
   "source": [
    "vgmdb_most_pop_album_file = '../Datasets/vgmdb/most_popular_albums_adjusted.txt'\n",
    "vgmdb_most_pop_album = pd.read_csv(vgmdb_most_pop_album_file)"
   ]
  },
  {
   "cell_type": "code",
   "execution_count": 35,
   "metadata": {},
   "outputs": [],
   "source": [
    "vgmdb_least_pop_album_file = '../Datasets/vgmdb/least_popular_albums_adjusted.txt'\n",
    "vgmdb_least_pop_album = pd.read_csv(vgmdb_least_pop_album_file)"
   ]
  },
  {
   "cell_type": "code",
   "execution_count": 38,
   "metadata": {
    "scrolled": true
   },
   "outputs": [],
   "source": [
    "mp3_downloads_file = '../Datasets/Video Game Music mp3 Downloads/top_1000_downloaded_soundtracks_adjusted.txt'\n",
    "mp3_downloads = pd.read_csv(mp3_downloads_file, sep=';')"
   ]
  },
  {
   "cell_type": "code",
   "execution_count": null,
   "metadata": {},
   "outputs": [],
   "source": []
  }
 ],
 "metadata": {
  "kernelspec": {
   "display_name": "Python 3",
   "language": "python",
   "name": "python3"
  },
  "language_info": {
   "codemirror_mode": {
    "name": "ipython",
    "version": 3
   },
   "file_extension": ".py",
   "mimetype": "text/x-python",
   "name": "python",
   "nbconvert_exporter": "python",
   "pygments_lexer": "ipython3",
   "version": "3.7.3"
  }
 },
 "nbformat": 4,
 "nbformat_minor": 2
}
